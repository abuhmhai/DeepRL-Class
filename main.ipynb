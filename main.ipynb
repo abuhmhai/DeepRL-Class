{
 "cells": [
  {
   "cell_type": "code",
   "execution_count": 1,
   "outputs": [
    {
     "name": "stdout",
     "output_type": "stream",
     "text": [
      "README.md        main.ipynb       \u001B[34msrc\u001B[m\u001B[m\r\n",
      "\u001B[34mdata\u001B[m\u001B[m             requirements.txt \u001B[34mthrash\u001B[m\u001B[m\r\n"
     ]
    }
   ],
   "source": [
    "!ls"
   ],
   "metadata": {
    "collapsed": false,
    "ExecuteTime": {
     "end_time": "2023-11-27T21:01:38.435399Z",
     "start_time": "2023-11-27T21:01:38.260610Z"
    }
   },
   "id": "1766a4d0da68f39e"
  },
  {
   "cell_type": "code",
   "execution_count": 2,
   "outputs": [],
   "source": [
    "import torch\n",
    "from matplotlib import pyplot as plt\n",
    "from src.rl_algorithm.dqn.DQN_Agent import DQNAgent\n",
    "import gym\n",
    "from collections import deque\n",
    "from gym.wrappers import RecordVideo\n",
    "import src.util as util\n",
    "from src.config import Config"
   ],
   "metadata": {
    "collapsed": false,
    "ExecuteTime": {
     "end_time": "2023-11-27T21:01:41.287888Z",
     "start_time": "2023-11-27T21:01:39.034706Z"
    }
   },
   "id": "204d3b52bf4ca62f"
  },
  {
   "cell_type": "code",
   "execution_count": 3,
   "outputs": [
    {
     "name": "stdout",
     "output_type": "stream",
     "text": [
      ">> Created dir data/rl_class_11-27-2023_22-01-41/models\n",
      ">> Created dir data/rl_class_11-27-2023_22-01-41/plots\n",
      ">> Created dir data/rl_class_11-27-2023_22-01-41/videos\n",
      "Error writing JSON data to data/rl_class_11-27-2023_22-01-41//config.json: Object of type getset_descriptor is not JSON serializable\n",
      ">> Using device: cpu\n"
     ]
    }
   ],
   "source": [
    "# initial setup\n",
    "util.seed_everything()                                # sets all the seeds\n",
    "PATH_ROOT = util.make_all_paths(is_dynamic_root=True) # creates a path for testing \n",
    "util.write_json_to_file(dict(Config.__dict__), file_path=PATH_ROOT+\"/config.json\")  # store the information of simulation\n",
    "\n",
    "device = torch.device('cuda' if torch.cuda.is_available() else 'cpu')\n",
    "print('>> Using device:', device)"
   ],
   "metadata": {
    "collapsed": false,
    "ExecuteTime": {
     "end_time": "2023-11-27T21:01:41.301249Z",
     "start_time": "2023-11-27T21:01:41.290047Z"
    }
   },
   "id": "9c61f161267c3f5f"
  },
  {
   "cell_type": "code",
   "execution_count": 4,
   "outputs": [],
   "source": [
    "agent = DQNAgent(frames=Config.N_FRAMES, action_space=Config.action_space, device=device, hidden_dimension=Config.HIDDEN_DIMENSION_FC)"
   ],
   "metadata": {
    "collapsed": false,
    "ExecuteTime": {
     "end_time": "2023-11-27T21:01:41.584494Z",
     "start_time": "2023-11-27T21:01:41.298624Z"
    }
   },
   "id": "12d2b1571698401e"
  },
  {
   "cell_type": "code",
   "execution_count": 5,
   "outputs": [],
   "source": [
    "# env = gym.make('CarRacing-v2', render_mode=\"human\")  # , render_mode='human')\n",
    "# \n",
    "# # chose each of thw available actions with probability 1/12 \n",
    "# MAX_STEP = 1000\n",
    "# env.reset()\n",
    "# for step in range(MAX_STEP):\n",
    "#     action = agent.act(is_only_random=True)\n",
    "#     next_state, r, epi_done, info, _ = env.step(action)\n",
    "# env.close()"
   ],
   "metadata": {
    "collapsed": false,
    "ExecuteTime": {
     "end_time": "2023-11-27T21:01:41.593298Z",
     "start_time": "2023-11-27T21:01:41.586171Z"
    }
   },
   "id": "88b234a315a485e8"
  },
  {
   "cell_type": "code",
   "execution_count": 6,
   "outputs": [
    {
     "name": "stderr",
     "output_type": "stream",
     "text": [
      "/Users/matteoprata/opt/anaconda3/envs/rl_course/lib/python3.8/site-packages/gym/wrappers/record_video.py:75: UserWarning: \u001B[33mWARN: Overwriting existing videos at /Users/matteoprata/PycharmProjects/RL23/data/rl_class_11-27-2023_22-01-41/videos folder (try specifying a different `video_folder` for the `RecordVideo` wrapper if this is not desired)\u001B[0m\n",
      "  logger.warn(\n"
     ]
    }
   ],
   "source": [
    "# https://www.gymlibrary.dev/environments/box2d/car_racing/\n",
    "env = gym.make('CarRacing-v2', render_mode=\"rgb_array\")  # , render_mode='human')\n",
    "env = RecordVideo(env, PATH_ROOT + 'videos', episode_trigger=lambda x: x % Config.UPDATE_TARGET_MODEL_FREQUENCY == 0)"
   ],
   "metadata": {
    "collapsed": false,
    "ExecuteTime": {
     "end_time": "2023-11-27T21:01:43.249590Z",
     "start_time": "2023-11-27T21:01:43.158065Z"
    }
   },
   "id": "a39ecd4642223cf4"
  },
  {
   "cell_type": "code",
   "execution_count": 7,
   "outputs": [],
   "source": [
    "# episode stats\n",
    "epi_total_rewards = []"
   ],
   "metadata": {
    "collapsed": false,
    "ExecuteTime": {
     "end_time": "2023-11-27T21:01:47.541322Z",
     "start_time": "2023-11-27T21:01:47.537345Z"
    }
   },
   "id": "7bc5d803347d0786"
  },
  {
   "cell_type": "code",
   "execution_count": 11,
   "outputs": [
    {
     "data": {
      "text/plain": "<Figure size 640x480 with 1 Axes>",
      "image/png": "[encoded data removed]"
     },
     "metadata": {},
     "output_type": "display_data"
    }
   ],
   "source": [
    "init_state = env.reset()[0]  # 96, 96, 3 pixels image RGB\n",
    "util.plot_frame_car(init_state)"
   ],
   "metadata": {
    "collapsed": false,
    "ExecuteTime": {
     "end_time": "2023-11-27T21:01:55.380540Z",
     "start_time": "2023-11-27T21:01:55.319618Z"
    }
   },
   "id": "fe375221b52e2674"
  },
  {
   "cell_type": "code",
   "execution_count": 12,
   "outputs": [
    {
     "data": {
      "text/plain": "<Figure size 640x480 with 1 Axes>",
      "image/png": "[encoded data removed]"
     },
     "metadata": {},
     "output_type": "display_data"
    }
   ],
   "source": [
    "init_state = util.preprocess_frame_car(init_state)  # 96, 96 pixels image GRAY\n",
    "util.plot_frame_car(init_state)"
   ],
   "metadata": {
    "collapsed": false,
    "ExecuteTime": {
     "end_time": "2023-11-27T21:02:03.548367Z",
     "start_time": "2023-11-27T21:02:03.464996Z"
    }
   },
   "id": "638ae6916220aa56"
  },
  {
   "cell_type": "code",
   "execution_count": 13,
   "outputs": [
    {
     "name": "stderr",
     "output_type": "stream",
     "text": [
      "/var/folders/dd/rff3hk2d6p79x89xcscm2zdm0000gn/T/ipykernel_62912/229970436.py:14: UserWarning: Creating a tensor from a list of numpy.ndarrays is extremely slow. Please consider converting the list to a single numpy.ndarray with numpy.array() before converting to a tensor. (Triggered internally at /Users/runner/work/pytorch/pytorch/pytorch/torch/csrc/utils/tensor_new.cpp:264.)\n",
      "  state_tensor = torch.Tensor(state_queue).unsqueeze(0).to(device)\n",
      "/Users/matteoprata/opt/anaconda3/envs/rl_course/lib/python3.8/site-packages/gym/utils/passive_env_checker.py:233: DeprecationWarning: `np.bool8` is a deprecated alias for `np.bool_`.  (Deprecated NumPy 1.24)\n",
      "  if not isinstance(terminated, (bool, np.bool8)):\n"
     ]
    },
    {
     "name": "stdout",
     "output_type": "stream",
     "text": [
      "Episode: 1/1000, Scores(Time Frames): 141, Total Rewards: -0.13, Epsilon: 0.99\n",
      "Moviepy - Building video /Users/matteoprata/PycharmProjects/RL23/data/rl_class_11-27-2023_22-01-41/videos/rl-video-episode-0.mp4.\n",
      "Moviepy - Writing video /Users/matteoprata/PycharmProjects/RL23/data/rl_class_11-27-2023_22-01-41/videos/rl-video-episode-0.mp4\n"
     ]
    },
    {
     "name": "stderr",
     "output_type": "stream",
     "text": [
      "                                                               \r"
     ]
    },
    {
     "name": "stdout",
     "output_type": "stream",
     "text": [
      "Moviepy - Done !\n",
      "Moviepy - video ready /Users/matteoprata/PycharmProjects/RL23/data/rl_class_11-27-2023_22-01-41/videos/rl-video-episode-0.mp4\n"
     ]
    },
    {
     "ename": "KeyboardInterrupt",
     "evalue": "",
     "output_type": "error",
     "traceback": [
      "\u001B[0;31m---------------------------------------------------------------------------\u001B[0m",
      "\u001B[0;31mKeyboardInterrupt\u001B[0m                         Traceback (most recent call last)",
      "Cell \u001B[0;32mIn[13], line 68\u001B[0m\n\u001B[1;32m     65\u001B[0m     \u001B[38;5;66;03m# (6) TRAIN ON BATCHES OF OBSERVATIONS\u001B[39;00m\n\u001B[1;32m     66\u001B[0m     \u001B[38;5;66;03m# train the model with tuple, if there are enough tuples\u001B[39;00m\n\u001B[1;32m     67\u001B[0m     \u001B[38;5;28;01mif\u001B[39;00m \u001B[38;5;28mlen\u001B[39m(agent\u001B[38;5;241m.\u001B[39mmemory) \u001B[38;5;241m>\u001B[39m Config\u001B[38;5;241m.\u001B[39mTRAINING_BATCH_SIZE:\n\u001B[0;32m---> 68\u001B[0m         \u001B[43magent\u001B[49m\u001B[38;5;241;43m.\u001B[39;49m\u001B[43mreplay\u001B[49m\u001B[43m(\u001B[49m\u001B[43mConfig\u001B[49m\u001B[38;5;241;43m.\u001B[39;49m\u001B[43mTRAINING_BATCH_SIZE\u001B[49m\u001B[43m)\u001B[49m\n\u001B[1;32m     70\u001B[0m     epi_time_frame_counter \u001B[38;5;241m+\u001B[39m\u001B[38;5;241m=\u001B[39m \u001B[38;5;241m1\u001B[39m\n\u001B[1;32m     71\u001B[0m epi_total_rewards \u001B[38;5;241m+\u001B[39m\u001B[38;5;241m=\u001B[39m [epi_total_reward]\n",
      "File \u001B[0;32m~/PycharmProjects/RL23/src/rl_algorithm/dqn/DQN_Agent.py:91\u001B[0m, in \u001B[0;36mDQNAgent.replay\u001B[0;34m(self, batch_size)\u001B[0m\n\u001B[1;32m     89\u001B[0m \u001B[38;5;66;03m# Optimize the model\u001B[39;00m\n\u001B[1;32m     90\u001B[0m \u001B[38;5;28mself\u001B[39m\u001B[38;5;241m.\u001B[39moptimizer\u001B[38;5;241m.\u001B[39mzero_grad()\n\u001B[0;32m---> 91\u001B[0m \u001B[43mloss\u001B[49m\u001B[38;5;241;43m.\u001B[39;49m\u001B[43mbackward\u001B[49m\u001B[43m(\u001B[49m\u001B[43m)\u001B[49m\n\u001B[1;32m     92\u001B[0m \u001B[38;5;28mself\u001B[39m\u001B[38;5;241m.\u001B[39moptimizer\u001B[38;5;241m.\u001B[39mstep()\n\u001B[1;32m     94\u001B[0m \u001B[38;5;28;01mif\u001B[39;00m \u001B[38;5;28mself\u001B[39m\u001B[38;5;241m.\u001B[39mepsilon \u001B[38;5;241m>\u001B[39m \u001B[38;5;28mself\u001B[39m\u001B[38;5;241m.\u001B[39mepsilon_min:\n",
      "File \u001B[0;32m~/opt/anaconda3/envs/rl_course/lib/python3.8/site-packages/torch/_tensor.py:492\u001B[0m, in \u001B[0;36mTensor.backward\u001B[0;34m(self, gradient, retain_graph, create_graph, inputs)\u001B[0m\n\u001B[1;32m    482\u001B[0m \u001B[38;5;28;01mif\u001B[39;00m has_torch_function_unary(\u001B[38;5;28mself\u001B[39m):\n\u001B[1;32m    483\u001B[0m     \u001B[38;5;28;01mreturn\u001B[39;00m handle_torch_function(\n\u001B[1;32m    484\u001B[0m         Tensor\u001B[38;5;241m.\u001B[39mbackward,\n\u001B[1;32m    485\u001B[0m         (\u001B[38;5;28mself\u001B[39m,),\n\u001B[0;32m   (...)\u001B[0m\n\u001B[1;32m    490\u001B[0m         inputs\u001B[38;5;241m=\u001B[39minputs,\n\u001B[1;32m    491\u001B[0m     )\n\u001B[0;32m--> 492\u001B[0m \u001B[43mtorch\u001B[49m\u001B[38;5;241;43m.\u001B[39;49m\u001B[43mautograd\u001B[49m\u001B[38;5;241;43m.\u001B[39;49m\u001B[43mbackward\u001B[49m\u001B[43m(\u001B[49m\n\u001B[1;32m    493\u001B[0m \u001B[43m    \u001B[49m\u001B[38;5;28;43mself\u001B[39;49m\u001B[43m,\u001B[49m\u001B[43m \u001B[49m\u001B[43mgradient\u001B[49m\u001B[43m,\u001B[49m\u001B[43m \u001B[49m\u001B[43mretain_graph\u001B[49m\u001B[43m,\u001B[49m\u001B[43m \u001B[49m\u001B[43mcreate_graph\u001B[49m\u001B[43m,\u001B[49m\u001B[43m \u001B[49m\u001B[43minputs\u001B[49m\u001B[38;5;241;43m=\u001B[39;49m\u001B[43minputs\u001B[49m\n\u001B[1;32m    494\u001B[0m \u001B[43m\u001B[49m\u001B[43m)\u001B[49m\n",
      "File \u001B[0;32m~/opt/anaconda3/envs/rl_course/lib/python3.8/site-packages/torch/autograd/__init__.py:251\u001B[0m, in \u001B[0;36mbackward\u001B[0;34m(tensors, grad_tensors, retain_graph, create_graph, grad_variables, inputs)\u001B[0m\n\u001B[1;32m    246\u001B[0m     retain_graph \u001B[38;5;241m=\u001B[39m create_graph\n\u001B[1;32m    248\u001B[0m \u001B[38;5;66;03m# The reason we repeat the same comment below is that\u001B[39;00m\n\u001B[1;32m    249\u001B[0m \u001B[38;5;66;03m# some Python versions print out the first line of a multi-line function\u001B[39;00m\n\u001B[1;32m    250\u001B[0m \u001B[38;5;66;03m# calls in the traceback and some print out the last line\u001B[39;00m\n\u001B[0;32m--> 251\u001B[0m \u001B[43mVariable\u001B[49m\u001B[38;5;241;43m.\u001B[39;49m\u001B[43m_execution_engine\u001B[49m\u001B[38;5;241;43m.\u001B[39;49m\u001B[43mrun_backward\u001B[49m\u001B[43m(\u001B[49m\u001B[43m  \u001B[49m\u001B[38;5;66;43;03m# Calls into the C++ engine to run the backward pass\u001B[39;49;00m\n\u001B[1;32m    252\u001B[0m \u001B[43m    \u001B[49m\u001B[43mtensors\u001B[49m\u001B[43m,\u001B[49m\n\u001B[1;32m    253\u001B[0m \u001B[43m    \u001B[49m\u001B[43mgrad_tensors_\u001B[49m\u001B[43m,\u001B[49m\n\u001B[1;32m    254\u001B[0m \u001B[43m    \u001B[49m\u001B[43mretain_graph\u001B[49m\u001B[43m,\u001B[49m\n\u001B[1;32m    255\u001B[0m \u001B[43m    \u001B[49m\u001B[43mcreate_graph\u001B[49m\u001B[43m,\u001B[49m\n\u001B[1;32m    256\u001B[0m \u001B[43m    \u001B[49m\u001B[43minputs\u001B[49m\u001B[43m,\u001B[49m\n\u001B[1;32m    257\u001B[0m \u001B[43m    \u001B[49m\u001B[43mallow_unreachable\u001B[49m\u001B[38;5;241;43m=\u001B[39;49m\u001B[38;5;28;43;01mTrue\u001B[39;49;00m\u001B[43m,\u001B[49m\n\u001B[1;32m    258\u001B[0m \u001B[43m    \u001B[49m\u001B[43maccumulate_grad\u001B[49m\u001B[38;5;241;43m=\u001B[39;49m\u001B[38;5;28;43;01mTrue\u001B[39;49;00m\u001B[43m,\u001B[49m\n\u001B[1;32m    259\u001B[0m \u001B[43m\u001B[49m\u001B[43m)\u001B[49m\n",
      "\u001B[0;31mKeyboardInterrupt\u001B[0m: "
     ]
    }
   ],
   "source": [
    "for e in range(Config.STARTING_EPISODE, Config.ENDING_EPISODE + 1):\n",
    "    env.episode_id = e\n",
    "\n",
    "    init_state = env.reset()[0]                         # 96, 96, 3 pixels image RGB\n",
    "    init_state = util.preprocess_frame_car(init_state)  # 96, 96 pixels image GRAY\n",
    "\n",
    "    epi_total_reward = 0\n",
    "    epi_negative_reward_counter = 0\n",
    "    epi_time_frame_counter = 1\n",
    "    epi_done = False\n",
    "\n",
    "    # (1) EVALUATE STATE: S\n",
    "    state_queue = deque([init_state] * Config.N_FRAMES, maxlen=Config.N_FRAMES)\n",
    "    state_tensor = torch.Tensor(state_queue).unsqueeze(0).to(device)\n",
    "    # util.plot_state_car(np.array(state_queue))  # visualize S0\n",
    "\n",
    "    while True:\n",
    "        state_tensor = torch.Tensor(state_queue).unsqueeze(0).to(device)\n",
    "        action = agent.act(state_tensor)\n",
    "\n",
    "        # (2) EXECUTE ACTION (for several steps)\n",
    "        # (3) EVALUATE S' STATE, REWARD\n",
    "        reward = 0\n",
    "        for _ in range(Config.SKIP_FRAMES):\n",
    "            # execute action\n",
    "            next_state, r, epi_done, _, _ = env.step(action)\n",
    "            # util.plot_frame_car(next_state)\n",
    "            reward += r\n",
    "            if epi_done:\n",
    "                break\n",
    "\n",
    "        # (4) ADJUST REWARD\n",
    "        # if getting negative reward 10 times after the tolerance steps, terminate this episode\n",
    "        if epi_time_frame_counter > 100 and reward < 0:\n",
    "            epi_negative_reward_counter += 1\n",
    "        else:\n",
    "            epi_negative_reward_counter = 0\n",
    "\n",
    "        # extra bonus for the model if it uses full gas\n",
    "        if action[1] == 1 and action[2] == 0:\n",
    "            reward *= Config.GAS_WEIGHT\n",
    "\n",
    "        epi_total_reward += reward\n",
    "\n",
    "        # util.plot_state_car(np.array(state_queue), title=\"STATE 0\")\n",
    "        # process state S'\n",
    "        next_state = util.preprocess_frame_car(next_state)\n",
    "        next_state_queue = deque([frame for frame in state_queue], maxlen=Config.N_FRAMES)\n",
    "        next_state_queue.append(next_state)\n",
    "        # util.plot_state_car(np.array(next_state_queue), title=\"STATE 1\")\n",
    "\n",
    "        next_state_tensor = torch.Tensor(next_state_queue).unsqueeze(0).to(device)\n",
    "\n",
    "        # (5) STORE OBSERVATIONS\n",
    "        # Memorizing saving state, action reward tuples\n",
    "        agent.memorize(state_tensor, action, reward, next_state_tensor, epi_done)\n",
    "\n",
    "        # S = S'\n",
    "        state_queue = next_state_queue\n",
    "\n",
    "        # early stop if the number of\n",
    "        if epi_negative_reward_counter >= 25 or epi_total_reward < 0:\n",
    "            break\n",
    "\n",
    "        # (6) TRAIN ON BATCHES OF OBSERVATIONS\n",
    "        # train the model with tuple, if there are enough tuples\n",
    "        if len(agent.memory) > Config.TRAINING_BATCH_SIZE:\n",
    "            agent.replay(Config.TRAINING_BATCH_SIZE)\n",
    "\n",
    "        epi_time_frame_counter += 1\n",
    "    epi_total_rewards += [epi_total_reward]\n",
    "\n",
    "    # >>> ON EPISODE END\n",
    "    # print stats\n",
    "    stats_string = 'Episode: {}/{}, Scores(Time Frames): {}, Total Rewards: {:.2}, Epsilon: {:.2}'\n",
    "    print(stats_string.format(\n",
    "        e,\n",
    "        Config.ENDING_EPISODE,\n",
    "        epi_time_frame_counter,\n",
    "        float(epi_total_reward),\n",
    "        float(agent.epsilon))\n",
    "    )\n",
    "\n",
    "    if e % Config.UPDATE_TARGET_MODEL_FREQUENCY == 0:\n",
    "        # plot rewards stats\n",
    "        plt.plot(epi_total_rewards, label=\"cum rew\", color=\"blue\")\n",
    "        plt.title(\"Rewards during episode episode\")\n",
    "        plt.savefig(PATH_ROOT + 'plots/reward_{}.pdf'.format(e))\n",
    "\n",
    "        # save model frequently\n",
    "        agent.save_model(PATH_ROOT + 'models/trial_{}.h5'.format(e))\n",
    "\n",
    "        # swap model\n",
    "        agent.update_target_model()\n",
    "        util.write_json_to_file({\"CUM_REW\": epi_total_rewards}, PATH_ROOT+\"/stats.json\")\n",
    "    env.close()"
   ],
   "metadata": {
    "collapsed": false,
    "ExecuteTime": {
     "end_time": "2023-11-27T21:03:22.161706Z",
     "start_time": "2023-11-27T21:02:45.520833Z"
    }
   },
   "id": "53388214873be469"
  }
 ],
 "metadata": {
  "kernelspec": {
   "display_name": "Python 3",
   "language": "python",
   "name": "python3"
  },
  "language_info": {
   "codemirror_mode": {
    "name": "ipython",
    "version": 2
   },
   "file_extension": ".py",
   "mimetype": "text/x-python",
   "name": "python",
   "nbconvert_exporter": "python",
   "pygments_lexer": "ipython2",
   "version": "2.7.6"
  }
 },
 "nbformat": 4,
 "nbformat_minor": 5
}
